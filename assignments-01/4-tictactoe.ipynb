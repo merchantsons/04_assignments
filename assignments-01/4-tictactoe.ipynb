{
  "nbformat": 4,
  "nbformat_minor": 0,
  "metadata": {
    "colab": {
      "provenance": []
    },
    "kernelspec": {
      "name": "python3",
      "display_name": "Python 3"
    },
    "language_info": {
      "name": "python"
    }
  },
  "cells": [
    {
      "cell_type": "code",
      "execution_count": null,
      "metadata": {
        "id": "Zst7mPbhtktF"
      },
      "outputs": [],
      "source": []
    },
    {
      "cell_type": "markdown",
      "source": [
        "**Tic-Tac-Toe Game in Python**"
      ],
      "metadata": {
        "id": "1NbPCLzTuFpv"
      }
    },
    {
      "cell_type": "code",
      "source": [],
      "metadata": {
        "id": "vkfMl6e-uHqZ"
      },
      "execution_count": null,
      "outputs": []
    },
    {
      "cell_type": "markdown",
      "source": [
        "# **Setting Up the Game Board**"
      ],
      "metadata": {
        "id": "ZLe01ZcnvFkp"
      }
    },
    {
      "cell_type": "markdown",
      "source": [
        "create the basic game board structure:"
      ],
      "metadata": {
        "id": "M5fvVVhPvQpF"
      }
    },
    {
      "cell_type": "code",
      "source": [
        "class TicTacToe:\n",
        "    def __init__(self):\n",
        "        # Initialize a 3x3 board with empty spaces\n",
        "        self.board = [' ' for _ in range(9)]  # Single list represents the board\n",
        "        self.current_winner = None  # Tracks if we have a winner\n",
        "\n",
        "    def print_board(self):\n",
        "        # Display the current board state\n",
        "        for row in [self.board[i*3:(i+1)*3] for i in range(3)]:\n",
        "            print('| ' + ' | '.join(row) + ' |')\n",
        "\n",
        "    @staticmethod\n",
        "    def print_board_nums():\n",
        "        # Show which numbers correspond to which positions\n",
        "        number_board = [[str(i) for i in range(j*3, (j+1)*3)] for j in range(3)]\n",
        "        for row in number_board:\n",
        "            print('| ' + ' | '.join(row) + ' |')\n",
        "\n",
        "    def available_moves(self):\n",
        "        # Returns list of indices of empty squares\n",
        "        return [i for i, spot in enumerate(self.board) if spot == ' ']\n",
        "\n",
        "    def empty_squares(self):\n",
        "        # Are there any empty squares left?\n",
        "        return ' ' in self.board\n",
        "\n",
        "    def num_empty_squares(self):\n",
        "        # Count of empty squares\n",
        "        return len(self.available_moves())\n",
        "\n",
        "    def make_move(self, square, letter):\n",
        "        # Make a move if valid, return True if valid move\n",
        "        if self.board[square] == ' ':\n",
        "            self.board[square] = letter\n",
        "            if self.winner(square, letter):\n",
        "                self.current_winner = letter\n",
        "            return True\n",
        "        return False\n",
        "\n",
        "    def winner(self, square, letter):\n",
        "        # Check if the current move caused a win\n",
        "\n",
        "        # Check row\n",
        "        row_ind = square // 3\n",
        "        row = self.board[row_ind*3 : (row_ind + 1)*3]\n",
        "        if all([spot == letter for spot in row]):\n",
        "            return True\n",
        "\n",
        "        # Check column\n",
        "        col_ind = square % 3\n",
        "        column = [self.board[col_ind + i*3] for i in range(3)]\n",
        "        if all([spot == letter for spot in column]):\n",
        "            return True\n",
        "\n",
        "        # Check diagonals (only if the move is on a diagonal space)\n",
        "        if square % 2 == 0:  # Diagonal spaces are 0, 2, 4, 6, 8\n",
        "            diagonal1 = [self.board[i] for i in [0, 4, 8]]  # Top-left to bottom-right\n",
        "            if all([spot == letter for spot in diagonal1]):\n",
        "                return True\n",
        "            diagonal2 = [self.board[i] for i in [2, 4, 6]]  # Top-right to bottom-left\n",
        "            if all([spot == letter for spot in diagonal2]):\n",
        "                return True\n",
        "        return False"
      ],
      "metadata": {
        "id": "11ObWiQHvT2L"
      },
      "execution_count": 2,
      "outputs": []
    },
    {
      "cell_type": "markdown",
      "source": [
        "# **Creating Player Types**"
      ],
      "metadata": {
        "id": "HFXUhpXTvXWa"
      }
    },
    {
      "cell_type": "markdown",
      "source": [
        "Now let's implement the different player types"
      ],
      "metadata": {
        "id": "1Ox2e-G3vakV"
      }
    },
    {
      "cell_type": "code",
      "source": [
        "import random\n",
        "import time\n",
        "import math\n",
        "\n",
        "class HumanPlayer:\n",
        "    def __init__(self, letter):\n",
        "        # Letter is X or O\n",
        "        self.letter = letter\n",
        "\n",
        "    def get_move(self, game):\n",
        "        # Get valid human input\n",
        "        valid_square = False\n",
        "        val = None\n",
        "        while not valid_square:\n",
        "            square = input(f'{self.letter}\\'s turn. Input move (0-8): ')\n",
        "            try:\n",
        "                val = int(square)\n",
        "                if val not in game.available_moves():\n",
        "                    raise ValueError\n",
        "                valid_square = True\n",
        "            except ValueError:\n",
        "                print('Invalid square. Try again.')\n",
        "        return val\n",
        "\n",
        "class RandomComputerPlayer:\n",
        "    def __init__(self, letter):\n",
        "        self.letter = letter\n",
        "\n",
        "    def get_move(self, game):\n",
        "        # Random valid move\n",
        "        square = random.choice(game.available_moves())\n",
        "        return square\n",
        "\n",
        "class SmartComputerPlayer:\n",
        "    def __init__(self, letter):\n",
        "        self.letter = letter\n",
        "\n",
        "    def get_move(self, game):\n",
        "        if len(game.available_moves()) == 9:\n",
        "            # First move - choose a random corner for better strategy\n",
        "            square = random.choice([0, 2, 6, 8])\n",
        "        else:\n",
        "            # Use minimax algorithm to find best move\n",
        "            square = self.minimax(game, self.letter)['position']\n",
        "        return square\n",
        "\n",
        "    def minimax(self, state, player):\n",
        "        max_player = self.letter  # The AI player\n",
        "        other_player = 'O' if player == 'X' else 'X'\n",
        "\n",
        "        # Base cases - check if game is over\n",
        "        if state.current_winner == other_player:\n",
        "            return {'position': None,\n",
        "                    'score': 1 * (state.num_empty_squares() + 1) if other_player == max_player\n",
        "                    else -1 * (state.num_empty_squares() + 1)}\n",
        "        elif not state.empty_squares():\n",
        "            return {'position': None, 'score': 0}\n",
        "\n",
        "        # Initialize best move\n",
        "        if player == max_player:\n",
        "            best = {'position': None, 'score': -math.inf}  # Maximize\n",
        "        else:\n",
        "            best = {'position': None, 'score': math.inf}  # Minimize\n",
        "\n",
        "        for possible_move in state.available_moves():\n",
        "            # 1. Try the move\n",
        "            state.make_move(possible_move, player)\n",
        "            # 2. Simulate game after that move\n",
        "            sim_score = self.minimax(state, other_player)\n",
        "            # 3. Undo the move\n",
        "            state.board[possible_move] = ' '\n",
        "            state.current_winner = None\n",
        "            # 4. Update best move\n",
        "            sim_score['position'] = possible_move\n",
        "\n",
        "            if player == max_player:  # Maximizing player\n",
        "                if sim_score['score'] > best['score']:\n",
        "                    best = sim_score\n",
        "            else:  # Minimizing player\n",
        "                if sim_score['score'] < best['score']:\n",
        "                    best = sim_score\n",
        "        return best"
      ],
      "metadata": {
        "id": "qJJxMe_3veLS"
      },
      "execution_count": 3,
      "outputs": []
    },
    {
      "cell_type": "markdown",
      "source": [
        "# **Game Play Function**"
      ],
      "metadata": {
        "id": "t8DU2OmIvxa0"
      }
    },
    {
      "cell_type": "markdown",
      "source": [
        "Here's the function that manages the game flow:"
      ],
      "metadata": {
        "id": "XmZVZNhUvmJP"
      }
    },
    {
      "cell_type": "code",
      "source": [
        "def play(game, x_player, o_player, print_game=True):\n",
        "    # Main game function that handles turns and game state\n",
        "\n",
        "    if print_game:\n",
        "        game.print_board_nums()\n",
        "\n",
        "    letter = 'X'  # Starting player\n",
        "\n",
        "    while game.empty_squares():\n",
        "        # Get the move from the appropriate player\n",
        "        if letter == 'O':\n",
        "            square = o_player.get_move(game)\n",
        "        else:\n",
        "            square = x_player.get_move(game)\n",
        "\n",
        "        # Make the move and check for winner\n",
        "        if game.make_move(square, letter):\n",
        "            if print_game:\n",
        "                print(f'{letter} makes a move to square {square}')\n",
        "                game.print_board()\n",
        "                print('')  # Empty line\n",
        "\n",
        "            if game.current_winner:\n",
        "                if print_game:\n",
        "                    print(f'{letter} wins!')\n",
        "                return letter\n",
        "\n",
        "            # Switch players\n",
        "            letter = 'O' if letter == 'X' else 'X'\n",
        "\n",
        "        # Small delay for computer moves\n",
        "        time.sleep(0.8)\n",
        "\n",
        "    # If we exit the loop and no winner, it's a tie\n",
        "    if print_game:\n",
        "        print('It\\'s a tie!')\n",
        "    return None"
      ],
      "metadata": {
        "id": "cRgIkXFtv40O"
      },
      "execution_count": 4,
      "outputs": []
    },
    {
      "cell_type": "markdown",
      "source": [
        "# **Player Selection and Main Game Loop**"
      ],
      "metadata": {
        "id": "ZsImOualv8C-"
      }
    },
    {
      "cell_type": "markdown",
      "source": [
        "Finally, let's add the player selection and main game loop:"
      ],
      "metadata": {
        "id": "OwmWA-hDv-kn"
      }
    },
    {
      "cell_type": "code",
      "source": [
        "def select_player_type(letter):\n",
        "    # Let user choose player type for X or O\n",
        "    while True:\n",
        "        choice = input(f\"Select player type for {letter}:\\n1. Human\\n2. Random Computer\\n3. Smart Computer\\nEnter choice (1-3): \")\n",
        "        if choice in ['1', '2', '3']:\n",
        "            if choice == '1':\n",
        "                return HumanPlayer(letter)\n",
        "            elif choice == '2':\n",
        "                return RandomComputerPlayer(letter)\n",
        "            else:\n",
        "                return SmartComputerPlayer(letter)\n",
        "        print(\"Invalid choice. Please enter 1, 2, or 3.\")\n",
        "\n",
        "def main():\n",
        "    print(\"Welcome to Tic Tac Toe!\")\n",
        "    print(\"Here are the positions on the board:\")\n",
        "\n",
        "    while True:\n",
        "        # Select player types\n",
        "        print(\"\\nSelect players for this game:\")\n",
        "        x_player = select_player_type('X')\n",
        "        o_player = select_player_type('O')\n",
        "\n",
        "        # Start the game\n",
        "        t = TicTacToe()\n",
        "        play(t, x_player, o_player, print_game=True)\n",
        "\n",
        "        # Ask to play again\n",
        "        play_again = input(\"Do you want to play again? (y/n): \").lower()\n",
        "        if play_again != 'y':\n",
        "            print(\"Thanks for playing!\")\n",
        "            break\n",
        "\n",
        "# Start the game when running in Colab\n",
        "if __name__ == '__main__':\n",
        "    main()"
      ],
      "metadata": {
        "colab": {
          "base_uri": "https://localhost:8080/"
        },
        "id": "gqLH2y_KwBhu",
        "outputId": "659ed4bd-728d-4678-cc1a-c836e100e8f2"
      },
      "execution_count": null,
      "outputs": [
        {
          "output_type": "stream",
          "name": "stdout",
          "text": [
            "Welcome to Tic Tac Toe!\n",
            "Here are the positions on the board:\n",
            "\n",
            "Select players for this game:\n",
            "Select player type for X:\n",
            "1. Human\n",
            "2. Random Computer\n",
            "3. Smart Computer\n",
            "Enter choice (1-3): 1\n",
            "Select player type for O:\n",
            "1. Human\n",
            "2. Random Computer\n",
            "3. Smart Computer\n",
            "Enter choice (1-3): 2\n",
            "| 0 | 1 | 2 |\n",
            "| 3 | 4 | 5 |\n",
            "| 6 | 7 | 8 |\n",
            "X's turn. Input move (0-8): 4\n",
            "X makes a move to square 4\n",
            "|   |   |   |\n",
            "|   | X |   |\n",
            "|   |   |   |\n",
            "\n",
            "O makes a move to square 3\n",
            "|   |   |   |\n",
            "| O | X |   |\n",
            "|   |   |   |\n",
            "\n",
            "X's turn. Input move (0-8): 5\n",
            "X makes a move to square 5\n",
            "|   |   |   |\n",
            "| O | X | X |\n",
            "|   |   |   |\n",
            "\n",
            "O makes a move to square 6\n",
            "|   |   |   |\n",
            "| O | X | X |\n",
            "| O |   |   |\n",
            "\n",
            "X's turn. Input move (0-8): 0\n",
            "X makes a move to square 0\n",
            "| X |   |   |\n",
            "| O | X | X |\n",
            "| O |   |   |\n",
            "\n",
            "O makes a move to square 7\n",
            "| X |   |   |\n",
            "| O | X | X |\n",
            "| O | O |   |\n",
            "\n",
            "X's turn. Input move (0-8): 8\n",
            "X makes a move to square 8\n",
            "| X |   |   |\n",
            "| O | X | X |\n",
            "| O | O | X |\n",
            "\n",
            "X wins!\n"
          ]
        }
      ]
    }
  ]
}