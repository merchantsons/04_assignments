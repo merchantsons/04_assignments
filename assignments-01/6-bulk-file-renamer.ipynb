{
  "nbformat": 4,
  "nbformat_minor": 0,
  "metadata": {
    "colab": {
      "provenance": []
    },
    "kernelspec": {
      "name": "python3",
      "display_name": "Python 3"
    },
    "language_info": {
      "name": "python"
    }
  },
  "cells": [
    {
      "cell_type": "code",
      "execution_count": null,
      "metadata": {
        "id": "gadKtY2O4His"
      },
      "outputs": [],
      "source": []
    },
    {
      "cell_type": "markdown",
      "source": [
        "# **Program that renames files in a folder based on specific conditions**\n",
        "\n",
        "# Import Necessary Libraries"
      ],
      "metadata": {
        "id": "mmAHCYah4Qsr"
      }
    },
    {
      "cell_type": "code",
      "source": [
        "import os\n"
      ],
      "metadata": {
        "id": "y9Rl6_X94bTJ"
      },
      "execution_count": null,
      "outputs": []
    },
    {
      "cell_type": "markdown",
      "source": [
        "# **Define the Renaming Function**\n",
        "Create a function that will handle the renaming logic. This function will take the folder path and renaming conditions as inputs."
      ],
      "metadata": {
        "id": "1M4ZkiFU4eCZ"
      }
    },
    {
      "cell_type": "code",
      "source": [
        "def rename_files_in_folder(folder_path, condition_function):\n",
        "    \"\"\"\n",
        "    Renames files in the specified folder based on the condition function provided.\n",
        "\n",
        "    Parameters:\n",
        "    folder_path (str): The path to the folder containing the files to rename.\n",
        "    condition_function (function): A function that takes the original file name as input and returns the new file name.\n",
        "    \"\"\"\n",
        "    # List all files in the directory\n",
        "    for filename in os.listdir(folder_path):\n",
        "        # Construct full file path\n",
        "        old_file = os.path.join(folder_path, filename)\n",
        "\n",
        "        # Check if it is a file\n",
        "        if os.path.isfile(old_file):\n",
        "            # Get the new file name based on the condition function\n",
        "            new_filename = condition_function(filename)\n",
        "            new_file = os.path.join(folder_path, new_filename)\n",
        "\n",
        "            # Rename the file\n",
        "            os.rename(old_file, new_file)\n",
        "            print(f'Renamed: {old_file} -> {new_file}')\n"
      ],
      "metadata": {
        "id": "Fx4yLwmo4hSF"
      },
      "execution_count": null,
      "outputs": []
    },
    {
      "cell_type": "markdown",
      "source": [
        "# **Define Renaming Conditions**\n",
        "Create a condition function that defines how files should be renamed. For example, you can add a prefix to each file name.\n",
        "\n"
      ],
      "metadata": {
        "id": "tu_Dgis84ijZ"
      }
    },
    {
      "cell_type": "code",
      "source": [
        "def add_prefix(filename, prefix='new_'):\n",
        "    \"\"\"\n",
        "    Adds a prefix to the file name.\n",
        "\n",
        "    Parameters:\n",
        "    filename (str): The original file name.\n",
        "    prefix (str): The prefix to add.\n",
        "\n",
        "    Returns:\n",
        "    str: The new file name with the prefix.\n",
        "    \"\"\"\n",
        "    return prefix + filename\n"
      ],
      "metadata": {
        "id": "7UpUXE3d4s-X"
      },
      "execution_count": null,
      "outputs": []
    },
    {
      "cell_type": "markdown",
      "source": [
        "# **Set the Folder Path**\n",
        "Specify the path to the folder containing the files you want to rename."
      ],
      "metadata": {
        "id": "RhgE-FjS4wI4"
      }
    },
    {
      "cell_type": "code",
      "source": [
        "# Set the path to your folder\n",
        "folder_path = '/content/your_folder'  # Change this to your folder path\n"
      ],
      "metadata": {
        "id": "WodOjIOn4zMd"
      },
      "execution_count": null,
      "outputs": []
    },
    {
      "cell_type": "markdown",
      "source": [
        "# **Run the Renaming Function**\n",
        "Call the rename_files_in_folder function with the folder path and the condition function.\n",
        "\n"
      ],
      "metadata": {
        "id": "3Ttpvv2O45uk"
      }
    },
    {
      "cell_type": "code",
      "source": [
        "# Run the renaming function\n",
        "rename_files_in_folder(folder_path, lambda filename: add_prefix(filename))"
      ],
      "metadata": {
        "id": "vx4Veia-48RW"
      },
      "execution_count": null,
      "outputs": []
    },
    {
      "cell_type": "markdown",
      "source": [
        "# **Upload Files: Before running the code**,\n",
        "upload the files you want to rename to the Google Colab environment. You can do this by using the file upload feature in Colab.\n",
        "Set Folder Path: Ensure the folder_path variable is set to the correct path where your files are located. In Colab, this is usually /content/your_folder.\n",
        "Run the Code: Execute the code cells in order. The files in the specified folder will be renamed according to the condition function.\n",
        "\n",
        "# **Additional Notes**\n",
        "Backup Your Files: Always make a backup of your files before running renaming scripts to avoid accidental data loss.\n",
        "Custom Conditions: You can define different condition functions to rename files based on various criteria, such as adding suffixes, changing file extensions, or renaming based on file creation dates.\n",
        "This guide should help you build and run a file renaming program in Google Colab."
      ],
      "metadata": {
        "id": "unrUqH8h5E-_"
      }
    }
  ]
}