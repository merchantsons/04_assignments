{
  "nbformat": 4,
  "nbformat_minor": 0,
  "metadata": {
    "colab": {
      "provenance": []
    },
    "kernelspec": {
      "name": "python3",
      "display_name": "Python 3"
    },
    "language_info": {
      "name": "python"
    }
  },
  "cells": [
    {
      "cell_type": "code",
      "execution_count": null,
      "metadata": {
        "id": "0jG3uqWyxRc5"
      },
      "outputs": [],
      "source": []
    },
    {
      "cell_type": "markdown",
      "source": [
        "# **Understanding Binary Search**\n",
        "Binary search follows these steps:\n",
        "\n",
        "Compare the target value to the middle element of the array\n",
        "\n",
        "If the target value is equal to the middle element, we're done\n",
        "\n",
        "If the target value is less than the middle element, search the left half\n",
        "\n",
        "If the target value is greater than the middle element, search the right half\n",
        "\n",
        "Repeat until the value is found or the interval is empty.\n",
        "\n",
        "\n",
        "# **Setting Up in Google Colab**\n",
        "First, let's create a new code cell and import any necessary modules:"
      ],
      "metadata": {
        "id": "MXj45fEhxxcN"
      }
    },
    {
      "cell_type": "code",
      "source": [
        "# Import time module to measure performance\n",
        "import time\n",
        "import random  # For generating test data"
      ],
      "metadata": {
        "id": "X8sacf45yBqP"
      },
      "execution_count": 1,
      "outputs": []
    },
    {
      "cell_type": "markdown",
      "source": [
        "# **Iterative Implementation**\n",
        "Here's the iterative version of binary search:"
      ],
      "metadata": {
        "id": "FvjWTSIayGY_"
      }
    },
    {
      "cell_type": "code",
      "source": [
        "def binary_search_iterative(arr, target):\n",
        "    \"\"\"\n",
        "    Iterative implementation of binary search\n",
        "    Returns index of target in arr if found, else -1\n",
        "    \"\"\"\n",
        "    low = 0\n",
        "    high = len(arr) - 1\n",
        "\n",
        "    while low <= high:\n",
        "        mid = (low + high) // 2  # Find middle index\n",
        "\n",
        "        if arr[mid] == target:\n",
        "            return mid  # Target found\n",
        "        elif arr[mid] < target:\n",
        "            low = mid + 1  # Search right half\n",
        "        else:\n",
        "            high = mid - 1  # Search left half\n",
        "\n",
        "    return -1  # Target not found"
      ],
      "metadata": {
        "id": "qbvmn228yKWr"
      },
      "execution_count": 2,
      "outputs": []
    },
    {
      "cell_type": "markdown",
      "source": [
        "# **Recursive Implementation**\n",
        "Now let's implement the recursive version:"
      ],
      "metadata": {
        "id": "TczOisPCyPy_"
      }
    },
    {
      "cell_type": "code",
      "source": [
        "def binary_search_recursive(arr, target, low=0, high=None):\n",
        "    \"\"\"\n",
        "    Recursive implementation of binary search\n",
        "    Returns index of target in arr if found, else -1\n",
        "    \"\"\"\n",
        "    if high is None:\n",
        "        high = len(arr) - 1\n",
        "\n",
        "    if low > high:\n",
        "        return -1  # Base case: target not found\n",
        "\n",
        "    mid = (low + high) // 2\n",
        "\n",
        "    if arr[mid] == target:\n",
        "        return mid  # Target found\n",
        "    elif arr[mid] < target:\n",
        "        return binary_search_recursive(arr, target, mid + 1, high)  # Search right\n",
        "    else:\n",
        "        return binary_search_recursive(arr, target, low, mid - 1)  # Search left"
      ],
      "metadata": {
        "id": "pDFRC09rySF1"
      },
      "execution_count": 3,
      "outputs": []
    },
    {
      "cell_type": "markdown",
      "source": [
        "# **Testing the Implementation**\n",
        "Let's test both implementations with sample data:"
      ],
      "metadata": {
        "id": "gZ2g7wNyyXnL"
      }
    },
    {
      "cell_type": "code",
      "source": [
        "# Create a sorted list of numbers\n",
        "sorted_list = sorted([random.randint(1, 1000) for _ in range(100)])\n",
        "target = random.choice(sorted_list)  # Pick a target that exists\n",
        "target2 = 2000  # Target that doesn't exist\n",
        "\n",
        "print(\"Sorted list sample:\", sorted_list[:10], \"...\")\n",
        "print(\"Target that exists:\", target)\n",
        "print(\"Target that doesn't exist:\", target2)\n",
        "\n",
        "# Test iterative version\n",
        "print(\"\\nTesting iterative version:\")\n",
        "start_time = time.time()\n",
        "result = binary_search_iterative(sorted_list, target)\n",
        "print(f\"Found {target} at index {result} in {time.time() - start_time:.6f} seconds\")\n",
        "\n",
        "result = binary_search_iterative(sorted_list, target2)\n",
        "print(f\"Search for {target2} returned {result}\")\n",
        "\n",
        "# Test recursive version\n",
        "print(\"\\nTesting recursive version:\")\n",
        "start_time = time.time()\n",
        "result = binary_search_recursive(sorted_list, target)\n",
        "print(f\"Found {target} at index {result} in {time.time() - start_time:.6f} seconds\")\n",
        "\n",
        "result = binary_search_recursive(sorted_list, target2)\n",
        "print(f\"Search for {target2} returned {result}\")"
      ],
      "metadata": {
        "colab": {
          "base_uri": "https://localhost:8080/"
        },
        "id": "M2LdxBphybfB",
        "outputId": "6cc29c53-b48a-4ee8-f3db-5806be0ddbed"
      },
      "execution_count": 4,
      "outputs": [
        {
          "output_type": "stream",
          "name": "stdout",
          "text": [
            "Sorted list sample: [2, 7, 13, 16, 28, 30, 32, 37, 40, 40] ...\n",
            "Target that exists: 534\n",
            "Target that doesn't exist: 2000\n",
            "\n",
            "Testing iterative version:\n",
            "Found 534 at index 54 in 0.000149 seconds\n",
            "Search for 2000 returned -1\n",
            "\n",
            "Testing recursive version:\n",
            "Found 534 at index 54 in 0.000140 seconds\n",
            "Search for 2000 returned -1\n"
          ]
        }
      ]
    },
    {
      "cell_type": "markdown",
      "source": [
        "# **Performance Comparison**\n",
        "Let's compare the performance with linear search:"
      ],
      "metadata": {
        "id": "gz5PjEBpyf6e"
      }
    },
    {
      "cell_type": "code",
      "source": [
        "def linear_search(arr, target):\n",
        "    \"\"\"Linear search for comparison\"\"\"\n",
        "    for i, num in enumerate(arr):\n",
        "        if num == target:\n",
        "            return i\n",
        "    return -1\n",
        "\n",
        "# Large dataset for performance comparison\n",
        "large_sorted = sorted([random.randint(1, 1000000) for _ in range(1000000)])\n",
        "large_target = random.choice(large_sorted)\n",
        "\n",
        "print(\"\\nPerformance comparison on large dataset (1,000,000 elements):\")\n",
        "\n",
        "# Linear search\n",
        "start = time.time()\n",
        "linear_search(large_sorted, large_target)\n",
        "linear_time = time.time() - start\n",
        "print(f\"Linear search: {linear_time:.6f} seconds\")\n",
        "\n",
        "# Binary search (iterative)\n",
        "start = time.time()\n",
        "binary_search_iterative(large_sorted, large_target)\n",
        "binary_iter_time = time.time() - start\n",
        "print(f\"Binary search (iterative): {binary_iter_time:.6f} seconds\")\n",
        "\n",
        "# Binary search (recursive)\n",
        "start = time.time()\n",
        "binary_search_recursive(large_sorted, large_target)\n",
        "binary_recur_time = time.time() - start\n",
        "print(f\"Binary search (recursive): {binary_recur_time:.6f} seconds\")\n",
        "\n",
        "print(f\"\\nBinary search is {linear_time/binary_iter_time:.1f}x faster than linear search!\")"
      ],
      "metadata": {
        "colab": {
          "base_uri": "https://localhost:8080/"
        },
        "id": "txQgxc5gyjGx",
        "outputId": "57c2a155-73ef-490d-b1ef-4c9d50b30dde"
      },
      "execution_count": 5,
      "outputs": [
        {
          "output_type": "stream",
          "name": "stdout",
          "text": [
            "\n",
            "Performance comparison on large dataset (1,000,000 elements):\n",
            "Linear search: 0.002103 seconds\n",
            "Binary search (iterative): 0.000082 seconds\n",
            "Binary search (recursive): 0.000067 seconds\n",
            "\n",
            "Binary search is 25.5x faster than linear search!\n"
          ]
        }
      ]
    },
    {
      "cell_type": "markdown",
      "source": [
        "# **Edge Case Testing**\n",
        "Let's test some edge cases:"
      ],
      "metadata": {
        "id": "4iNj0Xufyn6o"
      }
    },
    {
      "cell_type": "code",
      "source": [
        "print(\"\\nTesting edge cases:\")\n",
        "\n",
        "# Empty list\n",
        "print(\"Empty list:\", binary_search_iterative([], 5))\n",
        "\n",
        "# Single element list\n",
        "print(\"Single element (found):\", binary_search_iterative([5], 5))\n",
        "print(\"Single element (not found):\", binary_search_iterative([5], 3))\n",
        "\n",
        "# All elements same\n",
        "print(\"All same elements (found):\", binary_search_iterative([7,7,7,7,7], 7))\n",
        "print(\"All same elements (not found):\", binary_search_iterative([7,7,7,7,7], 5))\n",
        "\n",
        "# Target at beginning\n",
        "print(\"Target at beginning:\", binary_search_iterative([1,2,3,4,5], 1))\n",
        "\n",
        "# Target at end\n",
        "print(\"Target at end:\", binary_search_iterative([1,2,3,4,5], 5))"
      ],
      "metadata": {
        "colab": {
          "base_uri": "https://localhost:8080/"
        },
        "id": "hLEagbkbysFh",
        "outputId": "67f5dae6-de39-4c14-c233-fb48623766fb"
      },
      "execution_count": 6,
      "outputs": [
        {
          "output_type": "stream",
          "name": "stdout",
          "text": [
            "\n",
            "Testing edge cases:\n",
            "Empty list: -1\n",
            "Single element (found): 0\n",
            "Single element (not found): -1\n",
            "All same elements (found): 2\n",
            "All same elements (not found): -1\n",
            "Target at beginning: 0\n",
            "Target at end: 4\n"
          ]
        }
      ]
    },
    {
      "cell_type": "markdown",
      "source": [
        "# **Visualizing the Algorithm**\n",
        "Let's add some print statements to visualize how binary search works:"
      ],
      "metadata": {
        "id": "LDVoELtfyvk2"
      }
    },
    {
      "cell_type": "code",
      "source": [
        "def binary_search_verbose(arr, target):\n",
        "    \"\"\"\n",
        "    Binary search with visualization\n",
        "    \"\"\"\n",
        "    low = 0\n",
        "    high = len(arr) - 1\n",
        "    steps = 0\n",
        "\n",
        "    while low <= high:\n",
        "        steps += 1\n",
        "        mid = (low + high) // 2\n",
        "        print(f\"Step {steps}: Searching from index {low} to {high}\")\n",
        "        print(f\"Middle element at index {mid} is {arr[mid]}\")\n",
        "\n",
        "        if arr[mid] == target:\n",
        "            print(f\"Found {target} at index {mid} in {steps} steps\")\n",
        "            return mid\n",
        "        elif arr[mid] < target:\n",
        "            print(f\"{target} is greater than {arr[mid]}, searching right half\")\n",
        "            low = mid + 1\n",
        "        else:\n",
        "            print(f\"{target} is less than {arr[mid]}, searching left half\")\n",
        "            high = mid - 1\n",
        "\n",
        "    print(f\"Target {target} not found after {steps} steps\")\n",
        "    return -1\n",
        "\n",
        "# Test the verbose version\n",
        "print(\"\\nVerbose binary search example:\")\n",
        "test_list = [1, 3, 5, 7, 9, 11, 13, 15, 17, 19]\n",
        "binary_search_verbose(test_list, 13)"
      ],
      "metadata": {
        "colab": {
          "base_uri": "https://localhost:8080/"
        },
        "id": "T13IDmKsyxzP",
        "outputId": "89467594-1642-4116-fbea-9b87a735e68a"
      },
      "execution_count": 7,
      "outputs": [
        {
          "output_type": "stream",
          "name": "stdout",
          "text": [
            "\n",
            "Verbose binary search example:\n",
            "Step 1: Searching from index 0 to 9\n",
            "Middle element at index 4 is 9\n",
            "13 is greater than 9, searching right half\n",
            "Step 2: Searching from index 5 to 9\n",
            "Middle element at index 7 is 15\n",
            "13 is less than 15, searching left half\n",
            "Step 3: Searching from index 5 to 6\n",
            "Middle element at index 5 is 11\n",
            "13 is greater than 11, searching right half\n",
            "Step 4: Searching from index 6 to 6\n",
            "Middle element at index 6 is 13\n",
            "Found 13 at index 6 in 4 steps\n"
          ]
        },
        {
          "output_type": "execute_result",
          "data": {
            "text/plain": [
              "6"
            ]
          },
          "metadata": {},
          "execution_count": 7
        }
      ]
    }
  ]
}