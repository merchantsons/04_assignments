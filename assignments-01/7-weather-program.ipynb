{
  "nbformat": 4,
  "nbformat_minor": 0,
  "metadata": {
    "colab": {
      "provenance": []
    },
    "kernelspec": {
      "name": "python3",
      "display_name": "Python 3"
    },
    "language_info": {
      "name": "python"
    }
  },
  "cells": [
    {
      "cell_type": "code",
      "execution_count": null,
      "metadata": {
        "id": "MbSqCnMgz8B7"
      },
      "outputs": [],
      "source": []
    },
    {
      "cell_type": "markdown",
      "source": [
        "# **Weather Data Collector Program in Google Colab**\n",
        "This project will collect user-provided location data and fetch weather details using a weather API. We'll use the OpenWeatherMap API, which provides free weather data."
      ],
      "metadata": {
        "id": "LtEJv4igz_q9"
      }
    },
    {
      "cell_type": "markdown",
      "source": [
        "# **Set Up the Project in Google Colab Install Required Libraries**"
      ],
      "metadata": {
        "id": "vpBDwvPX0F0O"
      }
    },
    {
      "cell_type": "code",
      "source": [
        "!pip install requests"
      ],
      "metadata": {
        "colab": {
          "base_uri": "https://localhost:8080/"
        },
        "id": "E8gcANCv0NOV",
        "outputId": "dafa54a8-37d5-4ba3-8db2-8944e948eb8d"
      },
      "execution_count": 1,
      "outputs": [
        {
          "output_type": "stream",
          "name": "stdout",
          "text": [
            "Requirement already satisfied: requests in /usr/local/lib/python3.11/dist-packages (2.32.3)\n",
            "Requirement already satisfied: charset-normalizer<4,>=2 in /usr/local/lib/python3.11/dist-packages (from requests) (3.4.1)\n",
            "Requirement already satisfied: idna<4,>=2.5 in /usr/local/lib/python3.11/dist-packages (from requests) (3.10)\n",
            "Requirement already satisfied: urllib3<3,>=1.21.1 in /usr/local/lib/python3.11/dist-packages (from requests) (2.3.0)\n",
            "Requirement already satisfied: certifi>=2017.4.17 in /usr/local/lib/python3.11/dist-packages (from requests) (2025.1.31)\n"
          ]
        }
      ]
    },
    {
      "cell_type": "markdown",
      "source": [],
      "metadata": {
        "id": "cBgTjflq0HuS"
      }
    },
    {
      "cell_type": "markdown",
      "source": [
        "# **Get an API Key from OpenWeatherMap**"
      ],
      "metadata": {
        "id": "v1eIYX-U0X8O"
      }
    },
    {
      "cell_type": "markdown",
      "source": [
        "# **Define the Weather Data Fetcher Function**"
      ],
      "metadata": {
        "id": "wvjxyGSM0f6J"
      }
    },
    {
      "cell_type": "code",
      "source": [
        "import requests\n",
        "\n",
        "def get_weather_data(location, api_key):\n",
        "    base_url = \"http://api.openweathermap.org/data/2.5/weather\"\n",
        "\n",
        "    params = {\n",
        "        'q': location,  # City name\n",
        "        'appid': api_key,  # Your API key\n",
        "        'units': 'metric'  # Celsius (use 'imperial' for Fahrenheit)\n",
        "    }\n",
        "\n",
        "    try:\n",
        "        response = requests.get(base_url, params=params)\n",
        "        response.raise_for_status()  # Check for errors\n",
        "\n",
        "        weather_data = response.json()\n",
        "\n",
        "        if weather_data[\"cod\"] != 200:\n",
        "            print(f\"Error: {weather_data['message']}\")\n",
        "            return None\n",
        "\n",
        "        return weather_data\n",
        "\n",
        "    except requests.exceptions.RequestException as e:\n",
        "        print(f\"Failed to fetch weather data: {e}\")\n",
        "        return None"
      ],
      "metadata": {
        "id": "pRa67GyK0iq1"
      },
      "execution_count": 2,
      "outputs": []
    },
    {
      "cell_type": "markdown",
      "source": [
        "# **Extract and Display Weather Information**\n",
        "This function processes the API response and prints readable weather details."
      ],
      "metadata": {
        "id": "eG-dMK380osP"
      }
    },
    {
      "cell_type": "code",
      "source": [
        "def display_weather(weather_data):\n",
        "    if not weather_data:\n",
        "        print(\"No weather data available.\")\n",
        "        return\n",
        "\n",
        "    city = weather_data[\"name\"]\n",
        "    country = weather_data[\"sys\"][\"country\"]\n",
        "    temp = weather_data[\"main\"][\"temp\"]\n",
        "    humidity = weather_data[\"main\"][\"humidity\"]\n",
        "    weather_desc = weather_data[\"weather\"][0][\"description\"]\n",
        "\n",
        "    print(\"\\n🌦️ Weather Report 🌦️\")\n",
        "    print(\"----------------------\")\n",
        "    print(f\"📍 Location: {city}, {country}\")\n",
        "    print(f\"🌡️ Temperature: {temp}°C\")\n",
        "    print(f\"💧 Humidity: {humidity}%\")\n",
        "    print(f\"☁️ Conditions: {weather_desc.capitalize()}\")"
      ],
      "metadata": {
        "id": "BbvOxnjY0sX4"
      },
      "execution_count": 3,
      "outputs": []
    },
    {
      "cell_type": "markdown",
      "source": [
        "# **Collect User Input and Fetch Weather**\n",
        "Now, let’s ask the user for a location and fetch the weather."
      ],
      "metadata": {
        "id": "R1Oanu380v2Q"
      }
    },
    {
      "cell_type": "code",
      "source": [
        "def main():\n",
        "    api_key = \"YOUR_API_KEY\"  # Replace with your API key\n",
        "\n",
        "    print(\"🌎 Weather Data Collector 🌎\")\n",
        "    print(\"--------------------------\")\n",
        "\n",
        "    while True:\n",
        "        location = input(\"Enter a city name (or 'quit' to exit): \").strip()\n",
        "\n",
        "        if location.lower() == 'quit':\n",
        "            print(\"Goodbye! 👋\")\n",
        "            break\n",
        "\n",
        "        weather_data = get_weather_data(location, api_key)\n",
        "\n",
        "        if weather_data:\n",
        "            display_weather(weather_data)\n",
        "        else:\n",
        "            print(\"Could not fetch weather data. Please try another location.\")\n",
        "\n",
        "        print(\"\\n\" + \"=\"*30 + \"\\n\")\n",
        "\n",
        "if __name__ == \"__main__\":\n",
        "    main()"
      ],
      "metadata": {
        "colab": {
          "base_uri": "https://localhost:8080/"
        },
        "id": "zd_IC5iY0xT3",
        "outputId": "1aa9d760-922b-4901-a34b-943c8f1a8aa4"
      },
      "execution_count": null,
      "outputs": [
        {
          "output_type": "stream",
          "name": "stdout",
          "text": [
            "🌎 Weather Data Collector 🌎\n",
            "--------------------------\n",
            "Enter a city name (or 'quit' to exit): KARACHI\n",
            "Failed to fetch weather data: 401 Client Error: Unauthorized for url: http://api.openweathermap.org/data/2.5/weather?q=KARACHI&appid=d3a6e1f3e3a6e1f3e3a6e1f3e4a6e1f3&units=metric\n",
            "Could not fetch weather data. Please try another location.\n",
            "\n",
            "==============================\n",
            "\n"
          ]
        }
      ]
    },
    {
      "cell_type": "markdown",
      "source": [
        "# **Run the Program**\n",
        "Execute the entire code by running all cells.\n",
        "\n",
        "Enter a city (e.g., \"London\", \"Tokyo\")\n",
        "\n",
        "See the weather details!\n",
        "\n",
        "Type \"quit\" to exit.\n",
        "\n",
        "# **Expected Output Example**\n",
        "\n",
        "\n",
        "🌎 Weather Data Collector 🌎\n",
        "--------------------------\n",
        "Enter a city name (or 'quit' to exit): Paris\n",
        "\n",
        "🌦️ Weather Report 🌦️\n",
        "----------------------\n",
        "📍 Location: Paris, FR\n",
        "🌡️ Temperature: 18.5°C\n",
        "💧 Humidity: 72%\n",
        "☁️ Conditions: Scattered clouds"
      ],
      "metadata": {
        "id": "pupD4_bv04Qm"
      }
    }
  ]
}